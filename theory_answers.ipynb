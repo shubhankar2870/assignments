{
 "cells": [
  {
   "cell_type": "markdown",
   "id": "b940d22a-3931-4789-ac1d-2d50415aa646",
   "metadata": {},
   "source": [
    "## 1.1"
   ]
  },
  {
   "cell_type": "code",
   "execution_count": 1,
   "id": "bf2198e6-3493-4a30-96f0-617ae997084d",
   "metadata": {},
   "outputs": [
    {
     "name": "stdout",
     "output_type": "stream",
     "text": [
      "5\n",
      "10\n"
     ]
    }
   ],
   "source": [
    "class MyClass:\n",
    "    static_var = 5  # Static variable\n",
    "\n",
    "    def __init__(self):\n",
    "        self.dynamic_var = 10  # Dynamic variable\n",
    "\n",
    "obj = MyClass()\n",
    "print(MyClass.static_var)  # 5\n",
    "print(obj.dynamic_var)  # 10"
   ]
  },
  {
   "cell_type": "code",
   "execution_count": 2,
   "id": "f9d0f56e-6bf4-4519-8181-5571a1c8c15c",
   "metadata": {},
   "outputs": [
    {
     "name": "stdout",
     "output_type": "stream",
     "text": [
      "{'a': 1, 'c': 3}\n",
      "{'a': 1}\n",
      "{}\n"
     ]
    }
   ],
   "source": [
    "my_dict = {'a': 1, 'b': 2, 'c': 3}\n",
    "my_dict.pop('b')  # Removes 'b': 2\n",
    "print(my_dict)  # {'a': 1, 'c': 3}\n",
    "my_dict.popitem()  # Removes an arbitrary item\n",
    "print(my_dict)  # {'a': 1} or {'c': 3}\n",
    "my_dict.clear()  # Removes all items\n",
    "print(my_dict)  # {}"
   ]
  },
  {
   "cell_type": "code",
   "execution_count": 3,
   "id": "c8e3c471-61b4-4195-a8d9-538b3ad2042f",
   "metadata": {},
   "outputs": [
    {
     "name": "stdout",
     "output_type": "stream",
     "text": [
      "frozenset({1, 2, 3})\n"
     ]
    }
   ],
   "source": [
    "fs = frozenset([1, 2, 3])\n",
    "print(fs)  # frozenset({1, 2, 3})"
   ]
  },
  {
   "cell_type": "code",
   "execution_count": 4,
   "id": "4cea887a-ff1c-4fcf-bf1a-00abf8cafaf0",
   "metadata": {},
   "outputs": [],
   "source": [
    "# Mutable\n",
    "my_list = [1, 2, 3]\n",
    "my_list[0] = 4\n",
    "\n",
    "# Immutable\n",
    "my_tuple = (1, 2, 3)\n",
    "# my_tuple[0] = 4 would raise an error"
   ]
  },
  {
   "cell_type": "code",
   "execution_count": 5,
   "id": "5f55551e-f53c-4612-87d2-d0f5f765fa97",
   "metadata": {},
   "outputs": [
    {
     "name": "stdout",
     "output_type": "stream",
     "text": [
      "Alice\n"
     ]
    }
   ],
   "source": [
    "class Person:\n",
    "    def __init__(self, name):\n",
    "        self.name = name\n",
    "\n",
    "p = Person(\"Alice\")\n",
    "print(p.name)  # Alice"
   ]
  },
  {
   "cell_type": "code",
   "execution_count": 6,
   "id": "17f69c1d-57d4-47ec-b991-60127933402a",
   "metadata": {},
   "outputs": [
    {
     "name": "stdout",
     "output_type": "stream",
     "text": [
      "This function does nothing.\n"
     ]
    }
   ],
   "source": [
    "def my_function():\n",
    "    \"\"\"This function does nothing.\"\"\"\n",
    "    pass\n",
    "\n",
    "print(my_function.__doc__)  # This function does nothing.\n"
   ]
  },
  {
   "cell_type": "code",
   "execution_count": null,
   "id": "7aaa9c1e-a2fc-495f-a1ed-e21b0dcc6374",
   "metadata": {},
   "outputs": [],
   "source": [
    "import unittest\n",
    "\n",
    "def add(a, b):\n",
    "    return a + b\n",
    "\n",
    "class TestAdd(unittest.TestCase):\n",
    "    def test_add(self):\n",
    "        self.assertEqual(add(2, 3), 5)\n",
    "\n",
    "if __name__ == '__main__':\n",
    "    unittest.main()\n"
   ]
  },
  {
   "cell_type": "code",
   "execution_count": 10,
   "id": "21599791-5048-433c-a5e7-bead259497e1",
   "metadata": {},
   "outputs": [
    {
     "name": "stdout",
     "output_type": "stream",
     "text": [
      "0\n",
      "1\n",
      "2\n",
      "3\n",
      "4\n",
      "1\n",
      "3\n",
      "5\n",
      "7\n",
      "9\n",
      "0\n",
      "1\n",
      "2\n",
      "3\n",
      "4\n",
      "5\n",
      "6\n",
      "7\n",
      "8\n",
      "9\n"
     ]
    }
   ],
   "source": [
    "for i in range(10):\n",
    "    if i == 5:\n",
    "        break  # Exit the loop\n",
    "    print(i)\n",
    "\n",
    "for i in range(10):\n",
    "    if i % 2 == 0:\n",
    "        continue  # Skip even numbers\n",
    "    print(i)\n",
    "\n",
    "for i in range(10):\n",
    "    if i == 5:\n",
    "        pass  # Do nothing\n",
    "    print(i)\n"
   ]
  },
  {
   "cell_type": "code",
   "execution_count": 11,
   "id": "fe988e00-40c5-4997-b9a9-6e554c70f9fb",
   "metadata": {},
   "outputs": [
    {
     "name": "stdout",
     "output_type": "stream",
     "text": [
      "Hello, Alice\n"
     ]
    }
   ],
   "source": [
    "class Person:\n",
    "    def __init__(self, name):\n",
    "        self.name = name\n",
    "\n",
    "    def greet(self):\n",
    "        return f\"Hello, {self.name}\"\n",
    "\n",
    "p = Person(\"Alice\")\n",
    "print(p.greet())  # Hello, Alice\n"
   ]
  },
  {
   "cell_type": "code",
   "execution_count": 12,
   "id": "b85eb98e-0f54-47b9-a256-25e278d87d4a",
   "metadata": {},
   "outputs": [
    {
     "name": "stdout",
     "output_type": "stream",
     "text": [
      "10\n",
      "20\n",
      "30\n"
     ]
    }
   ],
   "source": [
    "class MyClass:\n",
    "    public_var = 10\n",
    "    _protected_var = 20\n",
    "    __private_var = 30\n",
    "\n",
    "    def get_private_var(self):\n",
    "        return self.__private_var\n",
    "\n",
    "obj = MyClass()\n",
    "print(obj.public_var)  # 10\n",
    "print(obj._protected_var)  # 20\n",
    "# print(obj.__private_var) would raise an error\n",
    "print(obj.get_private_var())  # 30\n"
   ]
  },
  {
   "cell_type": "code",
   "execution_count": null,
   "id": "faed16ad-8403-4d2f-ba22-6790ee3b4b41",
   "metadata": {},
   "outputs": [],
   "source": [
    "# my_module.py\n",
    "def my_function():\n",
    "    return \"Hello\"\n",
    "\n",
    "# main.py\n",
    "import my_module\n",
    "print(my_module.my_function())  # Hello"
   ]
  },
  {
   "cell_type": "code",
   "execution_count": 16,
   "id": "05ef9586-32d7-4522-969a-d17143933847",
   "metadata": {},
   "outputs": [],
   "source": [
    "my_list = [1, 2, 3]\n",
    "my_tuple = (1, 2, 3)\n",
    "my_list[0] = 4  # Allowed\n",
    "# my_tuple[0] = 4 would raise an error\n"
   ]
  },
  {
   "cell_type": "code",
   "execution_count": 17,
   "id": "fcdb6268-fc1f-4013-aef0-b8871a3eacb3",
   "metadata": {},
   "outputs": [
    {
     "name": "stdout",
     "output_type": "stream",
     "text": [
      "Hello\n"
     ]
    }
   ],
   "source": [
    "# Interpreted Language Example: Python\n",
    "def my_function():\n",
    "    return \"Hello\"\n",
    "print(my_function())\n",
    "\n",
    "# Dynamically Typed Language Example: Python\n",
    "my_var = 5\n",
    "my_var = \"Hello\"  # Type changed from int to str\n"
   ]
  },
  {
   "cell_type": "code",
   "execution_count": 18,
   "id": "2ee0ec37-7481-4201-84cc-c834e8972bd3",
   "metadata": {},
   "outputs": [
    {
     "name": "stdout",
     "output_type": "stream",
     "text": [
      "{0: 0, 1: 1, 2: 4, 3: 9, 4: 16}\n",
      "[0, 1, 4, 9, 16]\n"
     ]
    }
   ],
   "source": [
    "# Dict comprehension\n",
    "squares = {x: x**2 for x in range(5)}\n",
    "print(squares)  # {0: 0, 1: 1, 2: 4, 3: 9, 4: 16}\n",
    "\n",
    "# List comprehension\n",
    "squares_list = [x**2 for x in range(5)]\n",
    "print(squares_list)  # [0, 1, 4, 9, 16]\n"
   ]
  },
  {
   "cell_type": "code",
   "execution_count": 19,
   "id": "0fe3e53a-719a-46a1-bf2c-cb722e2e53ee",
   "metadata": {},
   "outputs": [
    {
     "name": "stdout",
     "output_type": "stream",
     "text": [
      "Something is happening before the function is called.\n",
      "Hello!\n",
      "Something is happening after the function is called.\n"
     ]
    }
   ],
   "source": [
    "def my_decorator(func):\n",
    "    def wrapper():\n",
    "        print(\"Something is happening before the function is called.\")\n",
    "        func()\n",
    "        print(\"Something is happening after the function is called.\")\n",
    "    return wrapper\n",
    "\n",
    "@my_decorator\n",
    "def say_hello():\n",
    "    print(\"Hello!\")\n",
    "\n",
    "say_hello()\n"
   ]
  },
  {
   "cell_type": "code",
   "execution_count": 20,
   "id": "7bb862a1-8723-42a4-b41c-a9dd6f20b1da",
   "metadata": {},
   "outputs": [
    {
     "data": {
      "text/plain": [
       "968"
      ]
     },
     "execution_count": 20,
     "metadata": {},
     "output_type": "execute_result"
    }
   ],
   "source": [
    "import gc\n",
    "gc.collect()  # Forces garbage collection\n"
   ]
  },
  {
   "cell_type": "code",
   "execution_count": 21,
   "id": "fbf68c60-0c3c-45be-b5b2-ef6c1ad93ba7",
   "metadata": {},
   "outputs": [
    {
     "name": "stdout",
     "output_type": "stream",
     "text": [
      "5\n"
     ]
    }
   ],
   "source": [
    "add = lambda x, y: x + y\n",
    "print(add(2, 3))  # 5\n"
   ]
  },
  {
   "cell_type": "code",
   "execution_count": 22,
   "id": "153bcf86-361b-44e8-8eb6-f14ad130adf2",
   "metadata": {},
   "outputs": [
    {
     "name": "stdout",
     "output_type": "stream",
     "text": [
      "['a', 'b', 'c']\n",
      "a,b,c\n"
     ]
    }
   ],
   "source": [
    "text = \"a,b,c\"\n",
    "split_text = text.split(\",\")\n",
    "print(split_text)  # ['a', 'b', 'c']\n",
    "joined_text = \",\".join(split_text)\n",
    "print(joined_text)  # a,b,c\n"
   ]
  },
  {
   "cell_type": "code",
   "execution_count": 23,
   "id": "20580193-b746-4d7e-9307-ab5bb709cf23",
   "metadata": {},
   "outputs": [
    {
     "name": "stdout",
     "output_type": "stream",
     "text": [
      "1\n",
      "2\n",
      "1\n",
      "2\n",
      "3\n"
     ]
    }
   ],
   "source": [
    "# Iterator\n",
    "my_list = [1, 2, 3]\n",
    "my_iter = iter(my_list)\n",
    "print(next(my_iter))  # 1\n",
    "print(next(my_iter))  # 2\n",
    "\n",
    "# Generator\n",
    "def my_generator():\n",
    "    yield 1\n",
    "    yield 2\n",
    "    yield 3\n",
    "\n",
    "for value in my_generator():\n",
    "    print(value)\n"
   ]
  },
  {
   "cell_type": "code",
   "execution_count": 24,
   "id": "47dec3f5-a3cc-4181-a1b4-3357baee6caa",
   "metadata": {},
   "outputs": [
    {
     "ename": "NameError",
     "evalue": "name 'xrange' is not defined",
     "output_type": "error",
     "traceback": [
      "\u001b[1;31m---------------------------------------------------------------------------\u001b[0m",
      "\u001b[1;31mNameError\u001b[0m                                 Traceback (most recent call last)",
      "Cell \u001b[1;32mIn[24], line 2\u001b[0m\n\u001b[0;32m      1\u001b[0m \u001b[38;5;66;03m# Python 2\u001b[39;00m\n\u001b[1;32m----> 2\u001b[0m \u001b[38;5;28;01mfor\u001b[39;00m i \u001b[38;5;129;01min\u001b[39;00m xrange(\u001b[38;5;241m10\u001b[39m):  \u001b[38;5;66;03m# xrange is more memory efficient\u001b[39;00m\n\u001b[0;32m      3\u001b[0m     \u001b[38;5;28mprint\u001b[39m(i)\n\u001b[0;32m      4\u001b[0m \u001b[38;5;66;03m# Python 3\u001b[39;00m\n",
      "\u001b[1;31mNameError\u001b[0m: name 'xrange' is not defined"
     ]
    }
   ],
   "source": [
    "# Python 2\n",
    "for i in xrange(10):  # xrange is more memory efficient\n",
    "    print(i)\n",
    "# Python 3\n",
    "for i in range(10):  # range in Python 3 behaves like xrange\n",
    "    print(i)\n"
   ]
  },
  {
   "cell_type": "code",
   "execution_count": 25,
   "id": "92ca7430-5852-471f-a125-d890d112fc8b",
   "metadata": {},
   "outputs": [
    {
     "name": "stdout",
     "output_type": "stream",
     "text": [
      "Woof\n",
      "Meow\n"
     ]
    }
   ],
   "source": [
    "class Animal:\n",
    "    def __init__(self, name):\n",
    "        self.name = name  # Encapsulation\n",
    "\n",
    "    def speak(self):  # Abstraction\n",
    "        pass\n",
    "\n",
    "class Dog(Animal):  # Inheritance\n",
    "    def speak(self):\n",
    "        return \"Woof\"\n",
    "\n",
    "class Cat(Animal):\n",
    "    def speak(self):\n",
    "        return \"Meow\"\n",
    "\n",
    "def make_animal_speak(animal):  # Polymorphism\n",
    "    print(animal.speak())\n",
    "\n",
    "dog = Dog(\"Rover\")\n",
    "cat = Cat(\"Whiskers\")\n",
    "make_animal_speak(dog)  # Woof\n",
    "make_animal_speak(cat)  # Meow\n"
   ]
  },
  {
   "cell_type": "code",
   "execution_count": 26,
   "id": "01898663-004b-4f8c-9a4b-74bcca38502e",
   "metadata": {},
   "outputs": [
    {
     "name": "stdout",
     "output_type": "stream",
     "text": [
      "True\n"
     ]
    }
   ],
   "source": [
    "class Parent:\n",
    "    pass\n",
    "\n",
    "class Child(Parent):\n",
    "    pass\n",
    "\n",
    "print(issubclass(Child, Parent))  # True\n"
   ]
  },
  {
   "cell_type": "code",
   "execution_count": 27,
   "id": "45fe2c5a-c576-4a03-b69e-54e298dd30fb",
   "metadata": {},
   "outputs": [],
   "source": [
    "# Single inheritance\n",
    "class A:\n",
    "    pass\n",
    "\n",
    "class B(A):\n",
    "    pass\n",
    "\n",
    "# Multiple inheritance\n",
    "class C:\n",
    "    pass\n",
    "\n",
    "class D(B, C):\n",
    "    pass\n",
    "\n",
    "# Multilevel inheritance\n",
    "class E(D):\n",
    "    pass\n",
    "\n",
    "# Hierarchical inheritance\n",
    "class F(A):\n",
    "    pass\n"
   ]
  },
  {
   "cell_type": "code",
   "execution_count": 28,
   "id": "b367e337-651a-4b64-acbe-c05cea7f4c5a",
   "metadata": {},
   "outputs": [
    {
     "name": "stdout",
     "output_type": "stream",
     "text": [
      "1\n"
     ]
    }
   ],
   "source": [
    "class MyClass:\n",
    "    def __init__(self):\n",
    "        self.__private = 1  # Private attribute\n",
    "\n",
    "    def get_private(self):\n",
    "        return self.__private\n",
    "\n",
    "obj = MyClass()\n",
    "print(obj.get_private())  # 1\n"
   ]
  },
  {
   "cell_type": "code",
   "execution_count": 29,
   "id": "3ad640fb-a8cf-4a06-a294-9ac4666e2919",
   "metadata": {},
   "outputs": [
    {
     "name": "stdout",
     "output_type": "stream",
     "text": [
      "Bird is flying\n",
      "Airplane is flying\n"
     ]
    }
   ],
   "source": [
    "class Bird:\n",
    "    def fly(self):\n",
    "        print(\"Bird is flying\")\n",
    "\n",
    "class Airplane:\n",
    "    def fly(self):\n",
    "        print(\"Airplane is flying\")\n",
    "\n",
    "def make_fly(obj):\n",
    "    obj.fly()\n",
    "\n",
    "bird = Bird()\n",
    "airplane = Airplane()\n",
    "make_fly(bird)  # Bird is flying\n",
    "make_fly(airplane)  # Airplane is flying\n"
   ]
  },
  {
   "cell_type": "code",
   "execution_count": null,
   "id": "1faa26bb-0333-4fcf-b38f-8807c98f31d1",
   "metadata": {},
   "outputs": [],
   "source": []
  },
  {
   "cell_type": "markdown",
   "id": "ec23d76a-f3d9-4218-8ea7-1c917328c886",
   "metadata": {},
   "source": [
    "## 1.2: B"
   ]
  },
  {
   "cell_type": "code",
   "execution_count": 30,
   "id": "a4e1501c-2f47-4c92-bc70-c627d464b262",
   "metadata": {},
   "outputs": [
    {
     "name": "stdout",
     "output_type": "stream",
     "text": [
      "['freedom_fighter', 'Mohan', 'dash', 'karam', 'chandra', 'gandhi', 'Bapu']\n"
     ]
    }
   ],
   "source": [
    "# 1.3\n",
    "# a\n",
    "name = [\"Mohan\", \"dash\", \"karam\", \"chandra\", \"gandhi\", \"Bapu\"]\n",
    "name.insert(0, \"freedom_fighter\")\n",
    "print(name) "
   ]
  },
  {
   "cell_type": "code",
   "execution_count": 31,
   "id": "0ef39fd1-2eee-46a0-a8ee-8c9e487ca4fb",
   "metadata": {},
   "outputs": [
    {
     "name": "stdout",
     "output_type": "stream",
     "text": [
      "8\n"
     ]
    }
   ],
   "source": [
    "# b\n",
    "name = [\"freedomFighter\", \"Bapuji\", \"MOhan\", \"dash\", \"karam\", \"chandra\", \"gandhi\"]\n",
    "length1 = len((name[-len(name) + 1: -1: 2]))\n",
    "length2 = len((name[-len(name) + 1: -1]))\n",
    "print(length1 + length2)"
   ]
  },
  {
   "cell_type": "code",
   "execution_count": 32,
   "id": "328e9293-dc2e-4b9e-b68e-cd8f37658419",
   "metadata": {},
   "outputs": [
    {
     "name": "stdout",
     "output_type": "stream",
     "text": [
      "['Mohan', 'dash', 'karam', 'chandra', 'gandhi', 'Bapu', 'NetaJi', 'Bose']\n"
     ]
    }
   ],
   "source": [
    "# c\n",
    "name = [\"Mohan\", \"dash\", \"karam\", \"chandra\", \"gandhi\", \"Bapu\"]\n",
    "name.extend([\"NetaJi\", \"Bose\"])\n",
    "print(name) "
   ]
  },
  {
   "cell_type": "code",
   "execution_count": 33,
   "id": "62be481c-7cb0-4ec2-af06-450138016400",
   "metadata": {},
   "outputs": [
    {
     "name": "stdout",
     "output_type": "stream",
     "text": [
      "['Mohan', 'dash', 'karam', 'chandra', 'gandhi', 'Bapuji']\n"
     ]
    }
   ],
   "source": [
    "# d\n",
    "name = [\"Bapuji\", \"dash\", \"karam\", \"chandra\", \"gandhi\", \"Mohan\"]\n",
    "temp = name[-1]  # temp = \"Mohan\"\n",
    "name[-1] = name[0]  # name[-1] = \"Bapuji\"\n",
    "name[0] = temp  # name[0] = \"Mohan\"\n",
    "print(name)  "
   ]
  },
  {
   "cell_type": "code",
   "execution_count": null,
   "id": "010a4e83-e426-4e78-8a16-d1372c947ed3",
   "metadata": {},
   "outputs": [],
   "source": []
  },
  {
   "cell_type": "code",
   "execution_count": 35,
   "id": "7057c7b6-0920-4c99-8676-088618594bf0",
   "metadata": {},
   "outputs": [
    {
     "name": "stdout",
     "output_type": "stream",
     "text": [
      "2\n"
     ]
    }
   ],
   "source": [
    "# 1.4\n",
    "animal = ['human', 'cat', 'mat', 'cat', 'rat', 'human', 'lion']\n",
    "\n",
    "# a\n",
    "print(animal.count('human'))"
   ]
  },
  {
   "cell_type": "code",
   "execution_count": 36,
   "id": "e9622775-e20d-4695-b2ce-eeecb993c586",
   "metadata": {},
   "outputs": [
    {
     "name": "stdout",
     "output_type": "stream",
     "text": [
      "4\n"
     ]
    }
   ],
   "source": [
    "# b\n",
    "print(animal.index('rat'))"
   ]
  },
  {
   "cell_type": "code",
   "execution_count": 37,
   "id": "a5bc7307-2594-4d96-bfa7-1f7242331f22",
   "metadata": {},
   "outputs": [
    {
     "name": "stdout",
     "output_type": "stream",
     "text": [
      "7\n"
     ]
    }
   ],
   "source": [
    "# c\n",
    "print(len(animal))"
   ]
  },
  {
   "cell_type": "code",
   "execution_count": null,
   "id": "737ae71a-7170-4451-a726-db238f5d463d",
   "metadata": {},
   "outputs": [],
   "source": []
  },
  {
   "cell_type": "code",
   "execution_count": 38,
   "id": "96c9dcef-772a-415a-b6f7-d470eb7b8707",
   "metadata": {},
   "outputs": [
    {
     "name": "stdout",
     "output_type": "stream",
     "text": [
      "8\n"
     ]
    }
   ],
   "source": [
    "# 1.5\n",
    "tuple1 = (10, 20, \"Apple\", 3.4, 'a', [\"master\", \"ji\"], (\"sita\", \"geeta\", 22), [{\"roll_no\":1}, {\"name\":\"Navneet\"}])\n",
    "\n",
    "# a\n",
    "print(len(tuple1))"
   ]
  },
  {
   "cell_type": "code",
   "execution_count": 39,
   "id": "aea371df-72a8-4590-8058-8678fecc930b",
   "metadata": {},
   "outputs": [
    {
     "name": "stdout",
     "output_type": "stream",
     "text": [
      "Navneet\n"
     ]
    }
   ],
   "source": [
    "# b\n",
    "print(tuple1[-1][-1][\"name\"])"
   ]
  },
  {
   "cell_type": "code",
   "execution_count": 40,
   "id": "b6c4d8ba-8076-435e-82e9-4ace10a6033a",
   "metadata": {},
   "outputs": [
    {
     "name": "stdout",
     "output_type": "stream",
     "text": [
      "1\n"
     ]
    }
   ],
   "source": [
    "# c\n",
    "print(tuple1[-1][0][\"roll_no\"])"
   ]
  },
  {
   "cell_type": "code",
   "execution_count": 41,
   "id": "b03532ed-b37d-41c6-99e9-04c683677a7a",
   "metadata": {},
   "outputs": [
    {
     "name": "stdout",
     "output_type": "stream",
     "text": [
      "ji\n"
     ]
    }
   ],
   "source": [
    "# d\n",
    "print(tuple1[-3][1])"
   ]
  },
  {
   "cell_type": "code",
   "execution_count": 42,
   "id": "8b81d3f0-5ee5-414e-8144-09eca8ef2fa5",
   "metadata": {},
   "outputs": [
    {
     "name": "stdout",
     "output_type": "stream",
     "text": [
      "22\n"
     ]
    }
   ],
   "source": [
    "# e\n",
    "print(tuple1[-2][2])"
   ]
  },
  {
   "cell_type": "code",
   "execution_count": null,
   "id": "c55751bd-1912-4614-a059-b5cf83d1ce71",
   "metadata": {},
   "outputs": [],
   "source": []
  },
  {
   "cell_type": "code",
   "execution_count": 43,
   "id": "7d4561d0-f434-4fa4-9ec3-72d1d1053a7c",
   "metadata": {},
   "outputs": [
    {
     "name": "stdin",
     "output_type": "stream",
     "text": [
      "Enter the signal color (RED, YELLOW, GREEN):  RED\n"
     ]
    },
    {
     "name": "stdout",
     "output_type": "stream",
     "text": [
      "Stop\n"
     ]
    }
   ],
   "source": [
    "# 1.6\n",
    "signal = input(\"Enter the signal color (RED, YELLOW, GREEN): \").upper()\n",
    "if signal == \"RED\":\n",
    "    print(\"Stop\")\n",
    "elif signal == \"YELLOW\":\n",
    "    print(\"Stay\")\n",
    "elif signal == \"GREEN\":\n",
    "    print(\"Go\")\n",
    "else:\n",
    "    print(\"Invalid signal color\")"
   ]
  },
  {
   "cell_type": "code",
   "execution_count": 44,
   "id": "4278a08f-965c-4ada-8147-b3b4c20f8d4d",
   "metadata": {},
   "outputs": [
    {
     "name": "stdin",
     "output_type": "stream",
     "text": [
      "Enter first number:  55\n",
      "Enter second number:  39\n",
      "Enter operation (+, -, *, /):  /\n"
     ]
    },
    {
     "name": "stdout",
     "output_type": "stream",
     "text": [
      "Result: 1.4102564102564104\n"
     ]
    }
   ],
   "source": [
    "# 1.7\n",
    "def calculator(a, b, operation):\n",
    "    if operation == '+':\n",
    "        return a + b\n",
    "    elif operation == '-':\n",
    "        return a - b\n",
    "    elif operation == '*':\n",
    "        return a * b\n",
    "    elif operation == '/':\n",
    "        return a / b\n",
    "    else:\n",
    "        return \"Invalid operation\"\n",
    "\n",
    "a = float(input(\"Enter first number: \"))\n",
    "b = float(input(\"Enter second number: \"))\n",
    "operation = input(\"Enter operation (+, -, *, /): \")\n",
    "print(f\"Result: {calculator(a, b, operation)}\")\n"
   ]
  },
  {
   "cell_type": "code",
   "execution_count": 45,
   "id": "2e4b1798-97d0-47fe-b20f-06c69864b93b",
   "metadata": {},
   "outputs": [
    {
     "name": "stdout",
     "output_type": "stream",
     "text": [
      "Largest number: 30\n"
     ]
    }
   ],
   "source": [
    "# 1.8\n",
    "a, b, c = 10, 20, 30\n",
    "largest = a if (a > b and a > c) else b if (b > c) else c\n",
    "print(f\"Largest number: {largest}\")\n"
   ]
  },
  {
   "cell_type": "code",
   "execution_count": 46,
   "id": "364ba5b4-00a0-4498-a5cc-fe23120445de",
   "metadata": {},
   "outputs": [
    {
     "name": "stdin",
     "output_type": "stream",
     "text": [
      "Enter a number:  30\n"
     ]
    },
    {
     "name": "stdout",
     "output_type": "stream",
     "text": [
      "Factors of 30: [1, 2, 3, 5, 6, 10, 15, 30]\n"
     ]
    }
   ],
   "source": [
    "# 1.9\n",
    "num = int(input(\"Enter a number: \"))\n",
    "i = 1\n",
    "factors = []\n",
    "while i <= num:\n",
    "    if num % i == 0:\n",
    "        factors.append(i)\n",
    "    i += 1\n",
    "print(f\"Factors of {num}: {factors}\")\n"
   ]
  },
  {
   "cell_type": "code",
   "execution_count": 49,
   "id": "b4316df0-67ef-4db5-909b-00ec6cca65d9",
   "metadata": {},
   "outputs": [
    {
     "name": "stdin",
     "output_type": "stream",
     "text": [
      "Enter a positive number (negative to stop):  10\n",
      "Enter a positive number (negative to stop):  10\n",
      "Enter a positive number (negative to stop):  1\n",
      "Enter a positive number (negative to stop):  -1\n"
     ]
    },
    {
     "name": "stdout",
     "output_type": "stream",
     "text": [
      "Total sum of positive numbers: 21\n"
     ]
    }
   ],
   "source": [
    "# 1.10\n",
    "total_sum = 0\n",
    "while True:\n",
    "    num = int(input(\"Enter a positive number (negative to stop): \"))\n",
    "    if num < 0:\n",
    "        break\n",
    "    total_sum += num\n",
    "print(f\"Total sum of positive numbers: {total_sum}\")"
   ]
  },
  {
   "cell_type": "code",
   "execution_count": 50,
   "id": "58411be3-faf2-4361-8067-7c09c6d5fd5f",
   "metadata": {},
   "outputs": [
    {
     "name": "stdout",
     "output_type": "stream",
     "text": [
      "2 3 5 7 11 13 17 19 23 29 31 37 41 43 47 53 59 61 67 71 73 79 83 89 97 "
     ]
    }
   ],
   "source": [
    "# 1.11\n",
    "for num in range(2, 101):\n",
    "    is_prime = True\n",
    "    for i in range(2, int(num ** 0.5) + 1):\n",
    "        if num % i == 0:\n",
    "            is_prime = False\n",
    "            break\n",
    "    if is_prime:\n",
    "        print(num, end=\" \")"
   ]
  },
  {
   "cell_type": "code",
   "execution_count": 56,
   "id": "1753fb7c-d5ed-49a6-8b39-33384d3407ee",
   "metadata": {},
   "outputs": [
    {
     "name": "stdin",
     "output_type": "stream",
     "text": [
      "Enter marks of 0th subject 70\n",
      "Enter marks of 1th subject 50\n",
      "Enter marks of 2th subject 40\n",
      "Enter marks of 3th subject 60\n",
      "Enter marks of 4th subject 50\n"
     ]
    },
    {
     "name": "stdout",
     "output_type": "stream",
     "text": [
      "54.0\n",
      "Grade: C\n"
     ]
    }
   ],
   "source": [
    "# 1.12\n",
    "subject = []\n",
    "for i in range(5):\n",
    "    marks = int(input(f\"Enter marks of {i}th subject\"))\n",
    "    subject.append(marks)\n",
    "percentage = (sum(subject)/5)\n",
    "print(percentage)\n",
    "if percentage > 85:\n",
    "    print(\"Grade: A\")\n",
    "if percentage < 85 and percentage >= 75:\n",
    "    print(\"Grade: B\")\n",
    "if percentage < 75 and percentage >= 50:\n",
    "    print(\"Grade: C\")\n",
    "if percentage < 50 and percentage >= 30:\n",
    "    print(\"Grade: D\")\n",
    "if percentage < 30:\n",
    "    print(\"Reappear\")"
   ]
  },
  {
   "cell_type": "code",
   "execution_count": 57,
   "id": "c4475428-582d-44e1-af8b-bc8613272f8b",
   "metadata": {},
   "outputs": [
    {
     "name": "stdin",
     "output_type": "stream",
     "text": [
      "Enter wavelength 659.95\n"
     ]
    },
    {
     "name": "stdout",
     "output_type": "stream",
     "text": [
      "Red\n"
     ]
    }
   ],
   "source": [
    "# 1.13\n",
    "wavelength = float(input(\"Enter wavelength\"))\n",
    "if 400.0 <= wavelength < 440.0:\n",
    "    print(\"Violet\")\n",
    "if 440.0 <= wavelength < 460.0:\n",
    "    print(\"indigo\")\n",
    "if 460.0 <= wavelength < 500.0:\n",
    "    print(\"Blue\")\n",
    "if 500.0 <= wavelength < 570.0:\n",
    "    print(\"Green\")\n",
    "if 570.0 <= wavelength < 590.0:\n",
    "    print(\"Yellow\")\n",
    "if 590.0 <= wavelength < 620.0:\n",
    "    print(\"Orange\")\n",
    "if 620.0 <= wavelength < 720.0:\n",
    "    print(\"Red\")"
   ]
  },
  {
   "cell_type": "code",
   "execution_count": null,
   "id": "b60aa183-2301-4d58-8dfc-c9316b78f955",
   "metadata": {},
   "outputs": [],
   "source": []
  },
  {
   "cell_type": "code",
   "execution_count": 58,
   "id": "981f7d94-caa3-46a7-8724-6a8e6044d107",
   "metadata": {},
   "outputs": [
    {
     "name": "stdout",
     "output_type": "stream",
     "text": [
      "Name: Alice, Age: 20, Roll Number: A001\n",
      "Name: Alice Smith, Age: 21, Roll Number: A001\n"
     ]
    }
   ],
   "source": [
    "# 2\n",
    "class Student:\n",
    "    def __init__(self, name, age, roll_number):\n",
    "        self._name = name\n",
    "        self._age = age\n",
    "        self._roll_number = roll_number\n",
    "\n",
    "    # Getter methods\n",
    "    def get_name(self):\n",
    "        return self._name\n",
    "\n",
    "    def get_age(self):\n",
    "        return self._age\n",
    "\n",
    "    def get_roll_number(self):\n",
    "        return self._roll_number\n",
    "\n",
    "    # Setter methods\n",
    "    def set_name(self, name):\n",
    "        self._name = name\n",
    "\n",
    "    def set_age(self, age):\n",
    "        self._age = age\n",
    "\n",
    "    def set_roll_number(self, roll_number):\n",
    "        self._roll_number = roll_number\n",
    "\n",
    "    # Method to display student information\n",
    "    def display_student_info(self):\n",
    "        print(f\"Name: {self._name}, Age: {self._age}, Roll Number: {self._roll_number}\")\n",
    "\n",
    "    # Method to update student details\n",
    "    def update_student_details(self, name=None, age=None, roll_number=None):\n",
    "        if name:\n",
    "            self.set_name(name)\n",
    "        if age:\n",
    "            self.set_age(age)\n",
    "        if roll_number:\n",
    "            self.set_roll_number(roll_number)\n",
    "        self.display_student_info()\n",
    "\n",
    "# Test the functionality\n",
    "student1 = Student(\"Alice\", 20, \"A001\")\n",
    "student1.display_student_info()\n",
    "student1.update_student_details(name=\"Alice Smith\", age=21)"
   ]
  },
  {
   "cell_type": "code",
   "execution_count": null,
   "id": "ea0391c0-954f-46d0-b8f1-a49981afb04b",
   "metadata": {},
   "outputs": [],
   "source": []
  },
  {
   "cell_type": "code",
   "execution_count": 59,
   "id": "ac2c6dc1-6a75-47ad-bc9c-e4731f403d6a",
   "metadata": {},
   "outputs": [
    {
     "name": "stdout",
     "output_type": "stream",
     "text": [
      "Name: 1984, Author: George Orwell, Availability: 3\n",
      "Borrowed '1984' by George Orwell. Remaining copies: 2\n",
      "Returned '1984' by George Orwell. Total copies: 3\n"
     ]
    }
   ],
   "source": [
    "# 3\n",
    "class LibraryBook:\n",
    "    def __init__(self, name, author, availability):\n",
    "        self._name = name\n",
    "        self._author = author\n",
    "        self._availability = availability\n",
    "\n",
    "    # Method to borrow a book\n",
    "    def borrow_book(self):\n",
    "        if self._availability > 0:\n",
    "            self._availability -= 1\n",
    "            print(f\"Borrowed '{self._name}' by {self._author}. Remaining copies: {self._availability}\")\n",
    "        else:\n",
    "            print(f\"'{self._name}' by {self._author} is not available for borrowing.\")\n",
    "\n",
    "    # Method to return a book\n",
    "    def return_book(self):\n",
    "        self._availability += 1\n",
    "        print(f\"Returned '{self._name}' by {self._author}. Total copies: {self._availability}\")\n",
    "\n",
    "    # Method to display book information\n",
    "    def display_book_info(self):\n",
    "        print(f\"Name: {self._name}, Author: {self._author}, Availability: {self._availability}\")\n",
    "\n",
    "# Test the functionality\n",
    "book1 = LibraryBook(\"1984\", \"George Orwell\", 3)\n",
    "book1.display_book_info()\n",
    "book1.borrow_book()\n",
    "book1.return_book()\n"
   ]
  },
  {
   "cell_type": "code",
   "execution_count": 60,
   "id": "2062df53-f9dc-4c2a-8d40-fe6fde1fc133",
   "metadata": {},
   "outputs": [
    {
     "name": "stdout",
     "output_type": "stream",
     "text": [
      "Deposited 500. New balance: 1500\n",
      "Withdrew 200. New balance: 1300\n",
      "Account Number: S001, Balance: 1300\n",
      "Deposited 300. New balance: 800\n",
      "Withdrew 100. New balance: 700\n",
      "Account Number: C001, Balance: 700\n"
     ]
    }
   ],
   "source": [
    "# 4\n",
    "class BankAccount:\n",
    "    def __init__(self, account_number, balance=0):\n",
    "        self._account_number = account_number\n",
    "        self._balance = balance\n",
    "\n",
    "    def deposit(self, amount):\n",
    "        self._balance += amount\n",
    "        print(f\"Deposited {amount}. New balance: {self._balance}\")\n",
    "\n",
    "    def withdraw(self, amount):\n",
    "        if amount <= self._balance:\n",
    "            self._balance -= amount\n",
    "            print(f\"Withdrew {amount}. New balance: {self._balance}\")\n",
    "        else:\n",
    "            print(\"Insufficient balance\")\n",
    "\n",
    "    def inquiry(self):\n",
    "        print(f\"Account Number: {self._account_number}, Balance: {self._balance}\")\n",
    "\n",
    "class SavingsAccount(BankAccount):\n",
    "    pass\n",
    "\n",
    "class CheckingAccount(BankAccount):\n",
    "    pass\n",
    "\n",
    "# Test the functionality\n",
    "savings = SavingsAccount(\"S001\", 1000)\n",
    "savings.deposit(500)\n",
    "savings.withdraw(200)\n",
    "savings.inquiry()\n",
    "\n",
    "checking = CheckingAccount(\"C001\", 500)\n",
    "checking.deposit(300)\n",
    "checking.withdraw(100)\n",
    "checking.inquiry()"
   ]
  },
  {
   "cell_type": "code",
   "execution_count": null,
   "id": "59ac77c8-8545-4623-a8d6-7984a10d01f0",
   "metadata": {},
   "outputs": [],
   "source": []
  },
  {
   "cell_type": "code",
   "execution_count": 61,
   "id": "41cb0260-ed37-411f-aeb1-cca2e92a6734",
   "metadata": {},
   "outputs": [
    {
     "name": "stdout",
     "output_type": "stream",
     "text": [
      "Woof\n",
      "Meow\n"
     ]
    }
   ],
   "source": [
    "# 5\n",
    "class Animal:\n",
    "    def make_sound(self):\n",
    "        pass\n",
    "\n",
    "class Dog(Animal):\n",
    "    def make_sound(self):\n",
    "        print(\"Woof\")\n",
    "\n",
    "class Cat(Animal):\n",
    "    def make_sound(self):\n",
    "        print(\"Meow\")\n",
    "\n",
    "# Test the functionality\n",
    "dog = Dog()\n",
    "cat = Cat()\n",
    "\n",
    "dog.make_sound()\n",
    "cat.make_sound()\n"
   ]
  },
  {
   "cell_type": "code",
   "execution_count": null,
   "id": "b0a02ac9-f56e-4ae4-bec7-bf2fdf869ce1",
   "metadata": {},
   "outputs": [],
   "source": []
  },
  {
   "cell_type": "code",
   "execution_count": 62,
   "id": "3b67325a-68c0-4476-9626-addce912b459",
   "metadata": {},
   "outputs": [
    {
     "name": "stdout",
     "output_type": "stream",
     "text": [
      "Name: Burger, Description: Beef patty with lettuce, Price: 5.99, Category: Main Course\n",
      "Name: Burger, Description: Beef patty with lettuce, Price: 6.99, Category: Main Course\n",
      "Name: Cola, Description: Chilled soft drink, Price: 1.99, Category: Drink\n"
     ]
    }
   ],
   "source": [
    "# 6\n",
    "class MenuItem:\n",
    "    def __init__(self, name, description, price, category, item_id):\n",
    "        self._name = name\n",
    "        self._description = description\n",
    "        self._price = price\n",
    "        self._category = category\n",
    "        self._item_id = item_id  # Encapsulated attribute\n",
    "\n",
    "    def add_item(self, name, description, price, category, item_id):\n",
    "        return MenuItem(name, description, price, category, item_id)\n",
    "\n",
    "    def update_item(self, name=None, description=None, price=None, category=None):\n",
    "        if name:\n",
    "            self._name = name\n",
    "        if description:\n",
    "            self._description = description\n",
    "        if price:\n",
    "            self._price = price\n",
    "        if category:\n",
    "            self._category = category\n",
    "\n",
    "    def remove_item(self):\n",
    "        return None\n",
    "\n",
    "    def display_item_info(self):\n",
    "        print(f\"Name: {self._name}, Description: {self._description}, Price: {self._price}, Category: {self._category}\")\n",
    "\n",
    "class FoodItem(MenuItem):\n",
    "    pass\n",
    "\n",
    "class BeverageItem(MenuItem):\n",
    "    pass\n",
    "\n",
    "# Test the functionality\n",
    "food = FoodItem(\"Burger\", \"Beef patty with lettuce\", 5.99, \"Main Course\", 101)\n",
    "food.display_item_info()\n",
    "food.update_item(price=6.99)\n",
    "food.display_item_info()\n",
    "beverage = BeverageItem(\"Cola\", \"Chilled soft drink\", 1.99, \"Drink\", 201)\n",
    "beverage.display_item_info()"
   ]
  },
  {
   "cell_type": "code",
   "execution_count": null,
   "id": "57417e3e-b73c-4290-b6d5-51962ba6c3b7",
   "metadata": {},
   "outputs": [],
   "source": []
  },
  {
   "cell_type": "code",
   "execution_count": 63,
   "id": "97f43280-acf2-42f7-9cc8-d88fd3324401",
   "metadata": {},
   "outputs": [
    {
     "name": "stdout",
     "output_type": "stream",
     "text": [
      "Room Number: 101, Type: Suite, Rate: 200, Availability: True\n",
      "Room 101 booked successfully.\n",
      "Checked into room 101.\n",
      "Checked out of room 101. Room is now available.\n"
     ]
    }
   ],
   "source": [
    "# 7\n",
    "class Room:\n",
    "    def __init__(self, room_number, room_type, rate, availability):\n",
    "        self._room_number = room_number\n",
    "        self._room_type = room_type\n",
    "        self._rate = rate\n",
    "        self._availability = availability\n",
    "\n",
    "    def book_room(self):\n",
    "        if self._availability:\n",
    "            self._availability = False\n",
    "            print(f\"Room {self._room_number} booked successfully.\")\n",
    "        else:\n",
    "            print(f\"Room {self._room_number} is already booked.\")\n",
    "\n",
    "    def check_in(self):\n",
    "        print(f\"Checked into room {self._room_number}.\")\n",
    "\n",
    "    def check_out(self):\n",
    "        self._availability = True\n",
    "        print(f\"Checked out of room {self._room_number}. Room is now available.\")\n",
    "\n",
    "    def display_room_info(self):\n",
    "        print(f\"Room Number: {self._room_number}, Type: {self._room_type}, Rate: {self._rate}, Availability: {self._availability}\")\n",
    "\n",
    "class SuiteRoom(Room):\n",
    "    pass\n",
    "\n",
    "class StandardRoom(Room):\n",
    "    pass\n",
    "\n",
    "# Test the functionality\n",
    "room1 = SuiteRoom(101, \"Suite\", 200, True)\n",
    "room1.display_room_info()\n",
    "room1.book_room()\n",
    "room1.check_in()\n",
    "room1.check_out()"
   ]
  },
  {
   "cell_type": "code",
   "execution_count": null,
   "id": "b4bbf5ce-5b20-4ed1-a92b-d8d7c7d8fedf",
   "metadata": {},
   "outputs": [],
   "source": []
  },
  {
   "cell_type": "code",
   "execution_count": 64,
   "id": "c7b5f400-3a14-4ce8-9ee2-b8ef492f1855",
   "metadata": {},
   "outputs": [
    {
     "name": "stdout",
     "output_type": "stream",
     "text": [
      "Name: John Doe, Age: 35, Membership Type: Family, Status: True\n",
      "Membership for John Doe renewed.\n",
      "Membership for John Doe canceled.\n"
     ]
    }
   ],
   "source": [
    "# 8\n",
    "class Member:\n",
    "    def __init__(self, name, age, membership_type, membership_status, member_id):\n",
    "        self._name = name\n",
    "        self._age = age\n",
    "        self._membership_type = membership_type\n",
    "        self._membership_status = membership_status\n",
    "        self._member_id = member_id\n",
    "\n",
    "    def register_member(self):\n",
    "        print(f\"Member {self._name} registered successfully.\")\n",
    "\n",
    "    def renew_membership(self):\n",
    "        self._membership_status = True\n",
    "        print(f\"Membership for {self._name} renewed.\")\n",
    "\n",
    "    def cancel_membership(self):\n",
    "        self._membership_status = False\n",
    "        print(f\"Membership for {self._name} canceled.\")\n",
    "\n",
    "    def display_member_info(self):\n",
    "        print(f\"Name: {self._name}, Age: {self._age}, Membership Type: {self._membership_type}, Status: {self._membership_status}\")\n",
    "\n",
    "class FamilyMember(Member):\n",
    "    pass\n",
    "\n",
    "class IndividualMember(Member):\n",
    "    pass\n",
    "\n",
    "# Test the functionality\n",
    "member1 = FamilyMember(\"John Doe\", 35, \"Family\", True, 301)\n",
    "member1.display_member_info()\n",
    "member1.renew_membership()\n",
    "member1.cancel_membership()"
   ]
  },
  {
   "cell_type": "code",
   "execution_count": null,
   "id": "4a870781-3977-40fe-97b3-62da78b4e32c",
   "metadata": {},
   "outputs": [],
   "source": []
  },
  {
   "cell_type": "code",
   "execution_count": 65,
   "id": "a6c91153-4b22-481d-8e63-b433dfaac85c",
   "metadata": {},
   "outputs": [
    {
     "name": "stdout",
     "output_type": "stream",
     "text": [
      "Name: Birthday Party, Date: 2024-08-15, Time: 18:00, Location: John's Place, Attendees: 0\n",
      "Added attendee Alice\n",
      "Added attendee Bob\n",
      "Removed attendee Alice\n",
      "Name: Birthday Party, Date: 2024-08-15, Time: 18:00, Location: John's Place, Attendees: 1\n"
     ]
    }
   ],
   "source": [
    "# 9\n",
    "class Event:\n",
    "    def __init__(self, name, date, time, location, attendees, event_id):\n",
    "        self._name = name\n",
    "        self._date = date\n",
    "        self._time = time\n",
    "        self._location = location\n",
    "        self._attendees = attendees\n",
    "        self._event_id = event_id\n",
    "\n",
    "    def create_event(self, name, date, time, location, event_id):\n",
    "        return Event(name, date, time, location, [], event_id)\n",
    "\n",
    "    def add_attendee(self, attendee):\n",
    "        self._attendees.append(attendee)\n",
    "        print(f\"Added attendee {attendee}\")\n",
    "\n",
    "    def remove_attendee(self, attendee):\n",
    "        self._attendees.remove(attendee)\n",
    "        print(f\"Removed attendee {attendee}\")\n",
    "\n",
    "    def total_attendees(self):\n",
    "        return len(self._attendees)\n",
    "\n",
    "    def display_event_info(self):\n",
    "        print(f\"Name: {self._name}, Date: {self._date}, Time: {self._time}, Location: {self._location}, Attendees: {self.total_attendees()}\")\n",
    "\n",
    "class PrivateEvent(Event):\n",
    "    pass\n",
    "\n",
    "class PublicEvent(Event):\n",
    "    pass\n",
    "\n",
    "# Test the functionality\n",
    "event1 = PrivateEvent(\"Birthday Party\", \"2024-08-15\", \"18:00\", \"John's Place\", [], 401)\n",
    "event1.display_event_info()\n",
    "event1.add_attendee(\"Alice\")\n",
    "event1.add_attendee(\"Bob\")\n",
    "event1.remove_attendee(\"Alice\")\n",
    "event1.display_event_info()"
   ]
  },
  {
   "cell_type": "code",
   "execution_count": null,
   "id": "3a2df7d1-62fc-4d10-8585-fbc7dfe642f5",
   "metadata": {},
   "outputs": [],
   "source": []
  },
  {
   "cell_type": "code",
   "execution_count": 66,
   "id": "f92eafba-343d-4a61-af81-6c0e6d7faf59",
   "metadata": {},
   "outputs": [
    {
     "name": "stdout",
     "output_type": "stream",
     "text": [
      "Flight Number: DL123, Departure: JFK, Arrival: LAX, Departure Time: 10:00, Arrival Time: 13:00, Available Seats: 150\n",
      "Seat booked. Remaining seats: 149\n",
      "Reservation canceled. Available seats: 150\n"
     ]
    }
   ],
   "source": [
    "# 10\n",
    "class Flight:\n",
    "    def __init__(self, flight_number, departure_airport, arrival_airport, departure_time, arrival_time, available_seats, flight_id):\n",
    "        self._flight_number = flight_number\n",
    "        self._departure_airport = departure_airport\n",
    "        self._arrival_airport = arrival_airport\n",
    "        self._departure_time = departure_time\n",
    "        self._arrival_time = arrival_time\n",
    "        self._available_seats = available_seats\n",
    "        self._flight_id = flight_id\n",
    "\n",
    "    def book_seat(self):\n",
    "        if self._available_seats > 0:\n",
    "            self._available_seats -= 1\n",
    "            print(f\"Seat booked. Remaining seats: {self._available_seats}\")\n",
    "        else:\n",
    "            print(\"No seats available.\")\n",
    "\n",
    "    def cancel_reservation(self):\n",
    "        self._available_seats += 1\n",
    "        print(f\"Reservation canceled. Available seats: {self._available_seats}\")\n",
    "\n",
    "    def get_remaining_seats(self):\n",
    "        return self._available_seats\n",
    "\n",
    "    def display_flight_info(self):\n",
    "        print(f\"Flight Number: {self._flight_number}, Departure: {self._departure_airport}, Arrival: {self._arrival_airport}, Departure Time: {self._departure_time}, Arrival Time: {self._arrival_time}, Available Seats: {self._available_seats}\")\n",
    "\n",
    "class DomesticFlight(Flight):\n",
    "    pass\n",
    "\n",
    "class InternationalFlight(Flight):\n",
    "    pass\n",
    "\n",
    "# Test the functionality\n",
    "flight1 = DomesticFlight(\"DL123\", \"JFK\", \"LAX\", \"10:00\", \"13:00\", 150, 501)\n",
    "flight1.display_flight_info()\n",
    "flight1.book_seat()\n",
    "flight1.cancel_reservation()"
   ]
  },
  {
   "cell_type": "code",
   "execution_count": null,
   "id": "a594de85-88d9-4faa-ae09-e61df0634a51",
   "metadata": {},
   "outputs": [],
   "source": []
  },
  {
   "cell_type": "code",
   "execution_count": 67,
   "id": "5541383f-94c2-4ccb-ba8f-7c446d31471e",
   "metadata": {},
   "outputs": [],
   "source": [
    "# 11\n",
    "# constants.py\n",
    "PI = 3.141592653589793\n",
    "SPEED_OF_LIGHT = 299792458  # in meters per second\n"
   ]
  },
  {
   "cell_type": "code",
   "execution_count": null,
   "id": "aeae852a-1ed1-4c02-be5a-0fe1976ea292",
   "metadata": {},
   "outputs": [],
   "source": []
  },
  {
   "cell_type": "code",
   "execution_count": 69,
   "id": "250b187a-8a9e-4dd4-b42f-6618bd124602",
   "metadata": {},
   "outputs": [
    {
     "data": {
      "text/plain": [
       "15"
      ]
     },
     "execution_count": 69,
     "metadata": {},
     "output_type": "execute_result"
    }
   ],
   "source": [
    "# 12\n",
    "def add(a, b):\n",
    "    return a + b\n",
    "\n",
    "def subtract(a, b):\n",
    "    return a - b\n",
    "\n",
    "def multiply(a, b):\n",
    "    return a * b\n",
    "\n",
    "def divide(a, b):\n",
    "    if b == 0:\n",
    "        raise ValueError(\"Cannot divide by zero!\")\n",
    "    return a / b\n",
    "\n",
    "add(10, 5)"
   ]
  },
  {
   "cell_type": "code",
   "execution_count": null,
   "id": "e7b428ff-cc2b-49c7-bb13-50bb28a1cd7c",
   "metadata": {},
   "outputs": [],
   "source": []
  },
  {
   "cell_type": "code",
   "execution_count": 71,
   "id": "ae642340-5378-4f30-ba95-1069328679b2",
   "metadata": {},
   "outputs": [],
   "source": [
    "# 13\n",
    "class Product:\n",
    "    def __init__(self, product_id, name, price, stock):\n",
    "        self.product_id = product_id\n",
    "        self.name = name\n",
    "        self.price = price\n",
    "        self.stock = stock\n",
    "\n",
    "    def update_stock(self, quantity):\n",
    "        self.stock += quantity\n",
    "\n",
    "    def update_price(self, new_price):\n",
    "        self.price = new_price\n",
    "\n",
    "class Order:\n",
    "    def __init__(self, order_id, products, customer):\n",
    "        self.order_id = order_id\n",
    "        self.products = products\n",
    "        self.customer = customer\n",
    "        self.status = 'Pending'\n",
    "\n",
    "    def process_order(self):\n",
    "        self.status = 'Processed'\n"
   ]
  },
  {
   "cell_type": "code",
   "execution_count": null,
   "id": "775ff3fd-4e10-490a-bffb-708a621f136a",
   "metadata": {},
   "outputs": [],
   "source": []
  },
  {
   "cell_type": "code",
   "execution_count": 73,
   "id": "3156fdb9-f860-491d-acac-2881a1858bab",
   "metadata": {},
   "outputs": [
    {
     "data": {
      "text/plain": [
       "'Hello'"
      ]
     },
     "execution_count": 73,
     "metadata": {},
     "output_type": "execute_result"
    }
   ],
   "source": [
    "# 14\n",
    "def reverse_string(s):\n",
    "    return s[::-1]\n",
    "\n",
    "def capitalize_string(s):\n",
    "    return s.capitalize()\n",
    "\n",
    "reverse_string(\"Aman\")\n",
    "capitalize_string(\"hello\")"
   ]
  },
  {
   "cell_type": "code",
   "execution_count": null,
   "id": "d7366600-6b55-42ee-9d0a-d9b34902b708",
   "metadata": {},
   "outputs": [],
   "source": []
  },
  {
   "cell_type": "code",
   "execution_count": 74,
   "id": "d6262e57-03eb-4264-a771-707fa0517431",
   "metadata": {},
   "outputs": [],
   "source": [
    "# 15\n",
    "def read_file(file_path):\n",
    "    with open(file_path, 'r') as file:\n",
    "        return file.read()\n",
    "\n",
    "def write_file(file_path, data):\n",
    "    with open(file_path, 'w') as file:\n",
    "        file.write(data)\n",
    "\n",
    "def append_file(file_path, data):\n",
    "    with open(file_path, 'a') as file:\n",
    "        file.write(data)"
   ]
  },
  {
   "cell_type": "code",
   "execution_count": null,
   "id": "8becabaf-d4e2-4b61-83f9-b296e26fa9ab",
   "metadata": {},
   "outputs": [],
   "source": []
  },
  {
   "cell_type": "code",
   "execution_count": 78,
   "id": "bf230650-3025-4de3-9ee9-df051afb8d29",
   "metadata": {},
   "outputs": [],
   "source": [
    "# 16\n",
    "employee_data = [\n",
    "    {\"name\": \"Alice\", \"age\": 30, \"salary\": 70000},\n",
    "    {\"name\": \"Bob\", \"age\": 25, \"salary\": 50000},\n",
    "    {\"name\": \"Charlie\", \"age\": 35, \"salary\": 80000}\n",
    "]\n",
    "\n",
    "with open(\"employees.txt\", \"w\") as file:\n",
    "    for employee in employee_data:\n",
    "        file.write(f\"{employee['name']}, {employee['age']}, {employee['salary']}\\n\")"
   ]
  },
  {
   "cell_type": "code",
   "execution_count": null,
   "id": "c92a6867-45e0-4375-a0f6-95eb2171c7c6",
   "metadata": {},
   "outputs": [],
   "source": []
  },
  {
   "cell_type": "code",
   "execution_count": null,
   "id": "5900a273-c430-41fc-94c1-1ab645428c15",
   "metadata": {},
   "outputs": [],
   "source": [
    "# 17\n",
    "with open(\"inventory.txt\", \"r\") as file:\n",
    "    for line in file:\n",
    "        print(line.strip())\n"
   ]
  },
  {
   "cell_type": "code",
   "execution_count": null,
   "id": "92b20330-ce71-4cb6-8d8a-fd6809a3307a",
   "metadata": {},
   "outputs": [],
   "source": []
  },
  {
   "cell_type": "code",
   "execution_count": null,
   "id": "7d0e2520-7cea-45d1-a6a3-4e93141093dc",
   "metadata": {},
   "outputs": [],
   "source": [
    "# 18\n",
    "total_expenses = 0\n",
    "\n",
    "with open(\"expenses.txt\", \"r\") as file:\n",
    "    for line in file:\n",
    "        expense = float(line.strip())\n",
    "        total_expenses += expense\n",
    "\n",
    "print(f\"Total Expenses: {total_expenses}\")"
   ]
  },
  {
   "cell_type": "code",
   "execution_count": null,
   "id": "84520b1e-2120-44be-b7ec-95f9cd8c649e",
   "metadata": {},
   "outputs": [],
   "source": []
  },
  {
   "cell_type": "code",
   "execution_count": null,
   "id": "03e005ad-86f6-4736-bdd3-f70c4813aee5",
   "metadata": {},
   "outputs": [],
   "source": [
    "# 19\n",
    "from collections import Counter\n",
    "\n",
    "with open(\"paragraph.txt\", \"r\") as file:\n",
    "    words = file.read().split()\n",
    "\n",
    "word_count = Counter(words)\n",
    "\n",
    "for word in sorted(word_count):\n",
    "    print(f\"{word}: {word_count[word]}\")\n"
   ]
  },
  {
   "cell_type": "code",
   "execution_count": null,
   "id": "84ba2273-9aef-4d01-ac01-e22b442f6638",
   "metadata": {},
   "outputs": [],
   "source": []
  },
  {
   "cell_type": "markdown",
   "id": "b8eee078-ecf6-4382-b2c1-620938eec143",
   "metadata": {},
   "source": [
    "### 20\n",
    "Measure of Central Tendency refers to the central or typical value for a probability distribution. Common measures include the mean, median, and mode.\n",
    "\n",
    "Measures of Dispersion describe the spread of values around the central tendency. Common measures include range, variance, and standard deviation."
   ]
  },
  {
   "cell_type": "code",
   "execution_count": null,
   "id": "0077da1c-c80a-466c-a280-83b4b3b38c2d",
   "metadata": {},
   "outputs": [],
   "source": []
  },
  {
   "cell_type": "markdown",
   "id": "169828a7-09e4-42a0-932d-4563cad833c2",
   "metadata": {},
   "source": [
    "### 21\n",
    "Skewness is a measure of the asymmetry of the probability distribution of a real-valued random variable.\n",
    "\n",
    "Positive Skewness: Right skew, where the right tail is longer.\n",
    "\n",
    "Negative Skewness: Left skew, where the left tail is longer.\n"
   ]
  },
  {
   "cell_type": "code",
   "execution_count": null,
   "id": "b94e7a90-59ab-4a79-99df-661b258a3eb6",
   "metadata": {},
   "outputs": [],
   "source": []
  },
  {
   "cell_type": "markdown",
   "id": "c0d1981f-f906-4a9f-a5c4-0b61056f7a39",
   "metadata": {},
   "source": [
    "### 22\n",
    "PMF: Used for discrete random variables, it gives the probability that a discrete random variable is exactly equal to some value.\n",
    "\n",
    "PDF: Used for continuous random variables, it describes the likelihood of a random variable to take on a given value."
   ]
  },
  {
   "cell_type": "code",
   "execution_count": null,
   "id": "477e87bd-27d0-4033-9ab8-fa4272adc721",
   "metadata": {},
   "outputs": [],
   "source": []
  },
  {
   "cell_type": "markdown",
   "id": "f25b19d1-27df-46d3-8670-653b8ce72194",
   "metadata": {},
   "source": [
    "### 23\n",
    "Correlation measures the strength and direction of the relationship between two variables.\n",
    "\n",
    "Types of Correlation:\n",
    "\n",
    "Positive Correlation: Both variables move in the same direction.\n",
    "\n",
    "Negative Correlation: Variables move in opposite directions.\n",
    "\n",
    "No Correlation: No relationship between the variables."
   ]
  },
  {
   "cell_type": "code",
   "execution_count": null,
   "id": "b4f5e71f-9819-4157-8f07-297e73d788a6",
   "metadata": {},
   "outputs": [],
   "source": []
  },
  {
   "cell_type": "code",
   "execution_count": 82,
   "id": "23244a42-63fc-4c3f-bb74-062da1395be9",
   "metadata": {},
   "outputs": [
    {
     "name": "stdout",
     "output_type": "stream",
     "text": [
      "Pearson's coefficient of correlation: -0.5861923295898774\n"
     ]
    }
   ],
   "source": [
    "# 24\n",
    "import numpy as np\n",
    "\n",
    "# Marks obtained by 10 students in Accounting and Statistics\n",
    "accounting_marks = [35, 50, 40, 60, 70, 80, 45, 85, 65, 90]\n",
    "statistics_marks = [95, 90, 70, 60, 85, 80, 75, 60, 65, 50]\n",
    "\n",
    "# Calculate Pearson's coefficient of correlation\n",
    "correlation_coefficient = np.corrcoef(accounting_marks, statistics_marks)[0, 1]\n",
    "\n",
    "print(f\"Pearson's coefficient of correlation: {correlation_coefficient}\")"
   ]
  },
  {
   "cell_type": "code",
   "execution_count": null,
   "id": "cfe0f2b6-ddf4-4def-ac1a-71b83e560d84",
   "metadata": {},
   "outputs": [],
   "source": []
  },
  {
   "cell_type": "markdown",
   "id": "4358c6e6-5cbc-44ea-a9a4-4cd2e5645f72",
   "metadata": {},
   "source": [
    "### 25\n",
    "Definition:\n",
    "\n",
    "Correlation measures the strength and direction of the linear relationship between two variables.\n",
    "\n",
    "Regression predicts the value of a dependent variable based on the value of at least one independent variable.\n",
    "Directionality:\n",
    "\n",
    "\n",
    "Correlation is bidirectional, meaning it does not distinguish between dependent and independent variables.\n",
    "\n",
    "Regression is unidirectional, with a clear distinction between dependent and independent variables.\n",
    "Measurement:\n",
    "\n",
    "\n",
    "Correlation is measured using the correlation coefficient, ranging from -1 to +1.\n",
    "\n",
    "Regression is measured using the regression equation, which provides the best fit line for the data.\n",
    "Purpose:\n",
    "\n",
    "\n",
    "Correlation is used to quantify the degree to which two variables are related.\n",
    "\n",
    "Regression is used to make predictions or forecasts."
   ]
  },
  {
   "cell_type": "code",
   "execution_count": null,
   "id": "29fd2bd8-b8d1-444f-8778-ea5cdc018591",
   "metadata": {},
   "outputs": [],
   "source": []
  },
  {
   "cell_type": "markdown",
   "id": "a825f247-8a2e-425b-a08d-f84e2416e79c",
   "metadata": {},
   "source": [
    "### 26\n",
    "The regression equation is not provided, so it's not possible to calculate the exact price at Delhi with the given information. However, knowing the correlation helps us understand the degree to which prices in Delhi and Agra are related."
   ]
  },
  {
   "cell_type": "code",
   "execution_count": null,
   "id": "42de6078-c3fe-4cf4-9930-ea2eb2a00fb0",
   "metadata": {},
   "outputs": [],
   "source": []
  },
  {
   "cell_type": "markdown",
   "id": "7804d0df-e294-430d-b767-1dded9d2bbc8",
   "metadata": {},
   "source": [
    "### 27\n",
    "Mean of x = 13\n",
    "Mean of y = 17\n",
    "coeff of correlation = 1.33\n",
    "lambda y = 2.4"
   ]
  },
  {
   "cell_type": "code",
   "execution_count": null,
   "id": "0958f257-5f54-4492-a89b-033cbfd2a483",
   "metadata": {},
   "outputs": [],
   "source": []
  },
  {
   "cell_type": "markdown",
   "id": "a3fcc370-9f83-472e-bf01-d87951ad0832",
   "metadata": {},
   "source": [
    "### 28\n",
    "Normal Distribution: It is a probability distribution that is symmetric about the mean, showing that data near the mean are more frequent in occurrence than data far from the mean.\n",
    "\n",
    "Four Assumptions:\n",
    "\n",
    "Continuity: The variable should be continuous.\n",
    "\n",
    "Symmetry: The distribution of the variable should be symmetric about the mean.\n",
    "\n",
    "Unimodal: There should be a single peak (mode).\n",
    "\n",
    "Asymptotic: The tails of the distribution approach the horizontal axis but never touch it."
   ]
  },
  {
   "cell_type": "code",
   "execution_count": null,
   "id": "306eca75-6ef3-4d4d-8c9b-a8c73b623866",
   "metadata": {},
   "outputs": [],
   "source": []
  },
  {
   "cell_type": "markdown",
   "id": "79be667b-77b3-41df-942d-4807ae3a2e83",
   "metadata": {},
   "source": [
    "### 29\n",
    "1. Symmetrical about the mean.\n",
    "2. Mean, median, and mode are all equal.\n",
    "3. The curve approaches but never touches the x-axis.\n",
    "4. Defined by its mean (μ) and standard deviation (σ).\n",
    "5. The total area under the curve is 1.\n",
    "6. Approximately 68% of the data falls within 1 standard deviation, 95% within 2, and 99.7% within 3."
   ]
  },
  {
   "cell_type": "code",
   "execution_count": null,
   "id": "00bcf1ff-5575-44de-be57-6ea24ef1b08e",
   "metadata": {},
   "outputs": [],
   "source": []
  },
  {
   "cell_type": "markdown",
   "id": "b31f7d35-6535-4d34-af16-2e6f7a9436f0",
   "metadata": {},
   "source": [
    "### 30: e"
   ]
  },
  {
   "cell_type": "code",
   "execution_count": null,
   "id": "e22bc029-f216-4fe0-9e94-46f879b378cb",
   "metadata": {},
   "outputs": [],
   "source": []
  },
  {
   "cell_type": "markdown",
   "id": "e8f212a7-5429-448e-9ffc-ba3f296acb05",
   "metadata": {},
   "source": [
    "### 31\n",
    "i: 38.49%\n",
    "\n",
    "ii: 34.13%\n",
    "\n",
    "iii: 11.51%\n",
    "\n",
    "iv: 13.59%"
   ]
  },
  {
   "cell_type": "code",
   "execution_count": null,
   "id": "17a7965d-d456-487f-a8c2-7f168ba88b11",
   "metadata": {},
   "outputs": [],
   "source": []
  },
  {
   "cell_type": "markdown",
   "id": "e6bf4665-c159-479a-8e33-92772f0f0b03",
   "metadata": {},
   "source": [
    "### 32\n",
    "a: 15.87%\n",
    "\n",
    "b: 0.01%"
   ]
  },
  {
   "cell_type": "code",
   "execution_count": null,
   "id": "fd5a4e69-82c0-4553-94bb-ec5d6d42f153",
   "metadata": {},
   "outputs": [],
   "source": []
  },
  {
   "cell_type": "markdown",
   "id": "42e3c105-33ea-4edf-a234-9a0e14084c8f",
   "metadata": {},
   "source": [
    "### 33\n",
    "a: 79 students\n",
    "\n",
    "b: 341 students"
   ]
  },
  {
   "cell_type": "code",
   "execution_count": null,
   "id": "fe799d89-9cc8-40de-acab-2a47dc1d7e1c",
   "metadata": {},
   "outputs": [],
   "source": []
  },
  {
   "cell_type": "markdown",
   "id": "308d3f3f-86ed-45cb-a259-82bf7abd4f35",
   "metadata": {},
   "source": [
    "### 34\n",
    "Statistical Hypothesis: A statement or assumption about a parameter of a population, which we aim to test through statistical methods.\n",
    "\n",
    "Errors in Hypothesis Testing:\n",
    "\n",
    "Type I Error: Rejecting a true null hypothesis (false positive).\n",
    "\n",
    "Type II Error: Failing to reject a false null hypothesis (false negative).\n",
    "\n",
    "\n",
    "Large Samples & Small Samples:\n",
    "\n",
    "Large Samples: Typically, a sample size greater than 30 is considered large. Inferences drawn from large samples are more reliable due to the Central Limit Theorem.\n",
    "\n",
    "Small Samples: Sample sizes less than 30. Requires careful analysis, often using t-distribution instead of z-distribution."
   ]
  },
  {
   "cell_type": "code",
   "execution_count": null,
   "id": "7f59655e-537f-4bcb-943c-52e01625b7d2",
   "metadata": {},
   "outputs": [],
   "source": []
  },
  {
   "cell_type": "markdown",
   "id": "630a0dd0-d81d-449c-b49c-08cae53ef8d6",
   "metadata": {},
   "source": [
    "### 35\n",
    "Compare the calculated chi-square value to the critical value from chi-square tables at a chosen significance level (e.g., 0.05). If the calculated value is greater than the critical value, reject H0."
   ]
  },
  {
   "cell_type": "code",
   "execution_count": null,
   "id": "783158c0-9b86-4b90-bdff-515558fec39f",
   "metadata": {},
   "outputs": [],
   "source": []
  },
  {
   "cell_type": "markdown",
   "id": "9f07bd66-8b67-49ef-b2bf-f3b9683be298",
   "metadata": {},
   "source": [
    "### 37\n",
    "Compare the calculated chi-square value to the critical value from chi-square tables at a chosen significance level (e.g., 0.05). If the calculated value is greater than the critical value, reject the null hypothesis of a uniform distribution."
   ]
  },
  {
   "cell_type": "code",
   "execution_count": null,
   "id": "607aa187-4de0-47d6-b00a-746e4028dda2",
   "metadata": {},
   "outputs": [],
   "source": []
  },
  {
   "cell_type": "markdown",
   "id": "af59a82d-9235-4985-be69-908c4b7fe6a3",
   "metadata": {},
   "source": [
    "### 38\n",
    "The ANOVA (Analysis of Variance) test can determine if there are any statistically significant differences between the means of the three groups."
   ]
  },
  {
   "cell_type": "code",
   "execution_count": 85,
   "id": "14936349-df72-4d40-a285-0cbfe85747fb",
   "metadata": {},
   "outputs": [],
   "source": [
    "import warnings\n",
    "warnings.filterwarnings('ignore')"
   ]
  },
  {
   "cell_type": "code",
   "execution_count": 86,
   "id": "9622eac6-cdb3-4e12-a207-e848164ade97",
   "metadata": {},
   "outputs": [
    {
     "name": "stdout",
     "output_type": "stream",
     "text": [
      " * Serving Flask app '__main__'\n",
      " * Debug mode: on\n"
     ]
    },
    {
     "name": "stderr",
     "output_type": "stream",
     "text": [
      "WARNING: This is a development server. Do not use it in a production deployment. Use a production WSGI server instead.\n",
      " * Running on http://127.0.0.1:5000\n",
      "Press CTRL+C to quit\n",
      " * Restarting with watchdog (windowsapi)\n"
     ]
    },
    {
     "ename": "SystemExit",
     "evalue": "1",
     "output_type": "error",
     "traceback": [
      "An exception has occurred, use %tb to see the full traceback.\n",
      "\u001b[1;31mSystemExit\u001b[0m\u001b[1;31m:\u001b[0m 1\n"
     ]
    }
   ],
   "source": [
    "### 39\n",
    "from flask import Flask\n",
    "\n",
    "app = Flask(__name__)\n",
    "\n",
    "@app.route('/')\n",
    "def hello_world():\n",
    "    return 'Hello, World!'\n",
    "\n",
    "if __name__ == '__main__':\n",
    "    app.run(debug=True)"
   ]
  },
  {
   "cell_type": "code",
   "execution_count": null,
   "id": "caad6f57-24a2-48e6-8bc0-793ebfe1d3ea",
   "metadata": {},
   "outputs": [],
   "source": []
  },
  {
   "cell_type": "code",
   "execution_count": null,
   "id": "7a12eb1f-7d72-4785-8e39-c070d8bd074d",
   "metadata": {},
   "outputs": [],
   "source": [
    "# 40\n",
    "<form action=\"/submit\" method=\"POST\">\n",
    "    <input type=\"text\" name=\"name\" placeholder=\"Enter your name\">\n",
    "    <input type=\"submit\" value=\"Submit\">\n",
    "</form>\n",
    "\n",
    "from flask import Flask, request\n",
    "\n",
    "app = Flask(__name__)\n",
    "\n",
    "@app.route('/submit', methods=['POST'])\n",
    "def submit():\n",
    "    name = request.form['name']\n",
    "    return f'Hello, {name}!'\n",
    "\n",
    "if __name__ == '__main__':\n",
    "    app.run(debug=True)"
   ]
  },
  {
   "cell_type": "code",
   "execution_count": null,
   "id": "8aaaa26f-0441-442b-bbb1-153af6bebfa4",
   "metadata": {},
   "outputs": [],
   "source": []
  },
  {
   "cell_type": "code",
   "execution_count": 87,
   "id": "ba686b73-41a9-45e9-b6f9-9b609a93057f",
   "metadata": {},
   "outputs": [
    {
     "name": "stdout",
     "output_type": "stream",
     "text": [
      " * Serving Flask app '__main__'\n",
      " * Debug mode: on\n"
     ]
    },
    {
     "name": "stderr",
     "output_type": "stream",
     "text": [
      "WARNING: This is a development server. Do not use it in a production deployment. Use a production WSGI server instead.\n",
      " * Running on http://127.0.0.1:5000\n",
      "Press CTRL+C to quit\n",
      " * Restarting with watchdog (windowsapi)\n"
     ]
    },
    {
     "ename": "SystemExit",
     "evalue": "1",
     "output_type": "error",
     "traceback": [
      "An exception has occurred, use %tb to see the full traceback.\n",
      "\u001b[1;31mSystemExit\u001b[0m\u001b[1;31m:\u001b[0m 1\n"
     ]
    }
   ],
   "source": [
    "# 41\n",
    "from flask import Flask\n",
    "\n",
    "app = Flask(__name__)\n",
    "\n",
    "@app.route('/hello/<name>')\n",
    "def hello_name(name):\n",
    "    return f'Hello, {name}!'\n",
    "\n",
    "if __name__ == '__main__':\n",
    "    app.run(debug=True)"
   ]
  },
  {
   "cell_type": "code",
   "execution_count": null,
   "id": "9a3aff1f-7ad4-4237-a4e1-49da2eea715e",
   "metadata": {},
   "outputs": [],
   "source": []
  },
  {
   "cell_type": "code",
   "execution_count": null,
   "id": "931c5630-db03-454d-be51-a616fe379eda",
   "metadata": {},
   "outputs": [],
   "source": [
    "# 42\n",
    "from flask import Flask, render_template, redirect, url_for, request\n",
    "from flask_login import LoginManager, UserMixin, login_user, login_required, logout_user, current_user\n",
    "\n",
    "app = Flask(__name__)\n",
    "app.secret_key = 'secret_key'\n",
    "login_manager = LoginManager()\n",
    "login_manager.init_app(app)\n",
    "\n",
    "class User(UserMixin):\n",
    "    def __init__(self, id):\n",
    "        self.id = id\n",
    "\n",
    "@login_manager.user_loader\n",
    "def load_user(user_id):\n",
    "    return User(user_id)\n",
    "\n",
    "@app.route('/login', methods=['GET', 'POST'])\n",
    "def login():\n",
    "    if request.method == 'POST':\n",
    "        user_id = request.form['username']\n",
    "        user = User(user_id)\n",
    "        login_user(user)\n",
    "        return redirect(url_for('protected'))\n",
    "    return render_template('login.html')\n",
    "\n",
    "@app.route('/protected')\n",
    "@login_required\n",
    "def protected():\n",
    "    return f'Logged in as: {current_user.id}'\n",
    "\n",
    "@app.route('/logout')\n",
    "@login_required\n",
    "def logout():\n",
    "    logout_user()\n",
    "    return redirect(url_for('login'))\n",
    "\n",
    "if __name__ == '__main__':\n",
    "    app.run(debug=True)"
   ]
  },
  {
   "cell_type": "code",
   "execution_count": null,
   "id": "5b9dffbd-359e-4719-8701-2476f7e70bdc",
   "metadata": {},
   "outputs": [],
   "source": []
  },
  {
   "cell_type": "code",
   "execution_count": null,
   "id": "b85adb27-b281-4605-b8bc-7955388e9035",
   "metadata": {},
   "outputs": [],
   "source": [
    "# 44\n",
    "from flask import Flask, jsonify\n",
    "\n",
    "app = Flask(__name__)\n",
    "\n",
    "@app.route('/api/data', methods=['GET'])\n",
    "def get_data():\n",
    "    data = {'name': 'Alice', 'age': 30}\n",
    "    return jsonify(data)\n",
    "\n",
    "if __name__ == '__main__':\n",
    "    app.run(debug=True)"
   ]
  },
  {
   "cell_type": "code",
   "execution_count": null,
   "id": "8184ef02-0075-43a0-b520-dc0ab4a09194",
   "metadata": {},
   "outputs": [],
   "source": []
  },
  {
   "cell_type": "code",
   "execution_count": null,
   "id": "627b31e6-534c-4758-bc67-b335c22f0082",
   "metadata": {},
   "outputs": [],
   "source": [
    "# 45\n",
    "from flask import Flask, render_template\n",
    "from flask_wtf import FlaskForm\n",
    "from wtforms import StringField, SubmitField\n",
    "from wtforms.validators import DataRequired\n",
    "\n",
    "app = Flask(__name__)\n",
    "app.secret_key = 'secret_key'\n",
    "\n",
    "class MyForm(FlaskForm):\n",
    "    name = StringField('Name', validators=[DataRequired()])\n",
    "    submit = SubmitField('Submit')\n",
    "\n",
    "@app.route('/form', methods=['GET', 'POST'])\n",
    "def form():\n",
    "    form = MyForm()\n",
    "    if form.validate_on_submit():\n",
    "        name = form.name.data\n",
    "        return f'Hello, {name}!'\n",
    "    return render_template('form.html', form=form)\n",
    "\n",
    "if __name__ == '__main__':\n",
    "    app.run(debug=True)\n",
    "\n",
    "\n",
    "<form method=\"POST\">\n",
    "    {{ form.hidden_tag() }}\n",
    "    {{ form.name.label }} {{ form.name(size=20) }}\n",
    "    {{ form.submit() }}\n",
    "</form>"
   ]
  },
  {
   "cell_type": "code",
   "execution_count": null,
   "id": "d7d5b59c-4efb-4c88-9e17-e9bfde6bc2cb",
   "metadata": {},
   "outputs": [],
   "source": []
  },
  {
   "cell_type": "code",
   "execution_count": null,
   "id": "f68d0648-06a1-4268-9dd2-4dd71345cfbf",
   "metadata": {},
   "outputs": [],
   "source": [
    "# 46\n",
    "from flask import Flask, request, redirect, url_for\n",
    "from werkzeug.utils import secure_filename\n",
    "import os\n",
    "\n",
    "app = Flask(__name__)\n",
    "app.config['UPLOAD_FOLDER'] = '/path/to/upload/folder'\n",
    "app.config['MAX_CONTENT_PATH'] = 16 * 1024 * 1024\n",
    "\n",
    "@app.route('/upload', methods=['GET', 'POST'])\n",
    "def upload_file():\n",
    "    if request.method == 'POST':\n",
    "        file = request.files['file']\n",
    "        if file:\n",
    "            filename = secure_filename(file.filename)\n",
    "            file.save(os.path.join(app.config['UPLOAD_FOLDER'], filename))\n",
    "            return redirect(url_for('upload_file', filename=filename))\n",
    "    return '''\n",
    "    <!doctype html>\n",
    "    <title>Upload File</title>\n",
    "    <h1>Upload new File</h1>\n",
    "    <form method=post enctype=multipart/form-data>\n",
    "      <input type=file name=file>\n",
    "      <input type=submit value=Upload>\n",
    "    </form>\n",
    "    '''\n",
    "\n",
    "if __name__ == '__main__':\n",
    "    app.run(debug=True)"
   ]
  },
  {
   "cell_type": "code",
   "execution_count": null,
   "id": "f5708da2-89c5-4ee0-8391-ec8f5702f675",
   "metadata": {},
   "outputs": [],
   "source": []
  },
  {
   "cell_type": "code",
   "execution_count": null,
   "id": "f8230769-8c21-4a02-9d16-532a9d51d2c4",
   "metadata": {},
   "outputs": [],
   "source": [
    "# 47\n",
    "from flask import Blueprint\n",
    "\n",
    "example_blueprint = Blueprint('example', __name__)\n",
    "\n",
    "@example_blueprint.route('/example')\n",
    "def example():\n",
    "    return 'This is an example route'\n",
    "\n",
    "from flask import Flask\n",
    "from example_blueprint import example_blueprint\n",
    "\n",
    "app = Flask(__name__)\n",
    "app.register_blueprint(example_blueprint)\n",
    "\n",
    "if __name__ == '__main__':\n",
    "    app.run(debug=True)"
   ]
  },
  {
   "cell_type": "code",
   "execution_count": null,
   "id": "746c0ed9-6eef-4531-928c-ba82cdfad6f9",
   "metadata": {},
   "outputs": [],
   "source": []
  },
  {
   "cell_type": "code",
   "execution_count": null,
   "id": "4422d97f-ad30-42b3-9e1b-3cfb13aba733",
   "metadata": {},
   "outputs": [],
   "source": [
    "# 48\n",
    "server {\n",
    "    listen 80;\n",
    "    server_name mydomain.com;\n",
    "\n",
    "    location / {\n",
    "        proxy_pass http://127.0.0.1:8000;\n",
    "        proxy_set_header Host $host;\n",
    "        proxy_set_header X-Real-IP $remote_addr;\n",
    "        proxy_set_header X-Forwarded-For $proxy_add_x_forwarded_for;\n",
    "        proxy_set_header X-Forwarded-Proto $scheme;\n",
    "    }\n",
    "}"
   ]
  },
  {
   "cell_type": "code",
   "execution_count": null,
   "id": "cafeb569-5268-4650-86fc-3e3ddb101aa1",
   "metadata": {},
   "outputs": [],
   "source": []
  },
  {
   "cell_type": "code",
   "execution_count": null,
   "id": "deb835d3-6703-4e13-b7ee-078cb4d366c1",
   "metadata": {},
   "outputs": [],
   "source": [
    "# 49\n",
    "from flask import Flask, render_template, redirect, url_for, request\n",
    "from flask_pymongo import PyMongo\n",
    "from flask_login import LoginManager, UserMixin, login_user, login_required, logout_user, current_user\n",
    "from flask_wtf import FlaskForm\n",
    "from wtforms import StringField, PasswordField, SubmitField\n",
    "from wtforms.validators import DataRequired, Length, EqualTo\n",
    "\n",
    "app = Flask(__name__)\n",
    "app.secret_key = 'secret_key'\n",
    "app.config['MONGO_URI'] = 'mongodb://localhost:27017/myDatabase'\n",
    "mongo = PyMongo(app)\n",
    "login_manager = LoginManager()\n",
    "login_manager.init_app(app)\n",
    "\n",
    "class User(UserMixin):\n",
    "    def __init__(self, username):\n",
    "        self.id = username\n",
    "\n",
    "@login_manager.user_loader\n",
    "def load_user(username):\n",
    "    user = mongo.db.users.find_one({'username': username})\n",
    "    if user:\n",
    "        return User(user['username'])\n",
    "    return None\n",
    "\n",
    "class SignupForm(FlaskForm):\n",
    "    username = StringField('Username', validators=[DataRequired(), Length(min=4, max=20)])\n",
    "    password = PasswordField('Password', validators=[DataRequired(), Length(min=6)])\n",
    "    confirm_password = PasswordField('Confirm Password', validators=[DataRequired(), EqualTo('password')])\n",
    "    submit = SubmitField('Signup')\n",
    "\n",
    "class SigninForm(FlaskForm):\n",
    "    username = StringField('Username', validators=[DataRequired(), Length(min=4, max=20)])\n",
    "    password = PasswordField('Password', validators=[DataRequired(), Length(min=6)])\n",
    "    submit = SubmitField('Signin')\n",
    "\n",
    "@app.route('/signup', methods=['GET', 'POST'])\n",
    "def signup():\n",
    "    form = SignupForm()\n",
    "    if form.validate_on_submit():\n",
    "        username = form.username.data\n",
    "        password = form.password.data\n",
    "        user = {'username': username, 'password': password}\n",
    "        mongo.db.users.insert_one(user)\n",
    "        return redirect(url_for('signin'))\n",
    "    return render_template('signup.html', form=form)\n",
    "\n",
    "@app.route('/signin', methods=['GET', 'POST'])\n",
    "def signin():\n",
    "    form = SigninForm()\n",
    "    if form.validate_on_submit():\n",
    "        username = form.username.data\n",
    "        password = form.password.data\n",
    "        user = mongo.db.users.find_one({'username': username, 'password': password})\n",
    "        if user:\n",
    "            login_user(User(username))\n",
    "            return redirect(url_for('hello_geeks'))\n",
    "    return render_template('signin.html', form=form)\n",
    "\n",
    "@app.route('/hello_geeks')\n",
    "@login_required\n",
    "def hello_geeks():\n",
    "    return f'Hello Geeks, {current_user.id}!'\n",
    "\n",
    "@app.route('/logout')\n",
    "@login_required\n",
    "def logout():\n",
    "    logout_user()\n",
    "    return redirect(url_for('signin'))\n",
    "\n",
    "if __name__ == '__main__':\n",
    "    app.run(debug=True)\n"
   ]
  },
  {
   "cell_type": "code",
   "execution_count": null,
   "id": "bd61ad78-717f-4b9a-baff-ea9155170c41",
   "metadata": {},
   "outputs": [],
   "source": []
  },
  {
   "cell_type": "markdown",
   "id": "117eeb7e-a1f9-4765-8710-2b698e97efee",
   "metadata": {},
   "source": [
    "## 50: Machine learning"
   ]
  },
  {
   "cell_type": "markdown",
   "id": "ae495dd5-dfde-49d2-b5a3-55dd14acede5",
   "metadata": {},
   "source": [
    "1. Series is one dimensional while dataframe are two dimensional. Series contain homogeneous values while in dataframe, different columns can contain different type of variables"
   ]
  },
  {
   "cell_type": "markdown",
   "id": "c3a17add-9faf-4173-b89b-2470f76bce4c",
   "metadata": {},
   "source": [
    "2. Loc uses labels whereas iloc uses integer-bases indexing. In loc, endpoints are inclusive while in iloc, endpoints are exclusive"
   ]
  },
  {
   "cell_type": "markdown",
   "id": "69b1d9be-0ad6-40d3-8647-a1aeab35dcd3",
   "metadata": {},
   "source": [
    "3. In supervised learning, we have labelled data that is the data contains both input and output while in unsupervised learning, we dont have labelled data tha is the data only contains input"
   ]
  },
  {
   "cell_type": "markdown",
   "id": "96397a42-c18f-4786-910f-2564b90d1c8b",
   "metadata": {},
   "source": [
    "4. Bias means training error and variance means testing error. If bias is low and variance is high, it means overfitting. If bias is high and variance is low, it means underfitting. In a generalized model, both bias and variance are low."
   ]
  },
  {
   "cell_type": "markdown",
   "id": "77ceee01-650f-4c91-becb-8e10369efb98",
   "metadata": {},
   "source": [
    "5. Precision is the ratio is correctly predicted positive observations to all positive observations. Recall is the ratio of correctly predicted positive ans to all positive class observations."
   ]
  },
  {
   "cell_type": "markdown",
   "id": "49998bdf-1887-4fad-ab4d-5a495223a1b3",
   "metadata": {},
   "source": [
    "6. Overfitting is done when a model learns each and every detail and noise in the data to that extent where it reduces the performance of the model. To prevent it we use cross validation, pruning, regularization, etc."
   ]
  },
  {
   "cell_type": "markdown",
   "id": "a6ee0cfb-688d-4499-94bb-9b17c3b18489",
   "metadata": {},
   "source": [
    "7. Cross-validation is a statistical technique used in machine learning to evaluate and improve the performance of a model. It involves partitioning the dataset into multiple subsets and using different subsets for training and testing to ensure the model generalizes well to unseen data. The primary goal of cross-validation is to mitigate overfitting and provide a more reliable measure of a model's performance."
   ]
  },
  {
   "cell_type": "markdown",
   "id": "f1b301e8-d713-4b1b-8c0b-6374e89acc37",
   "metadata": {},
   "source": [
    "8. In classification problems we divide the data in classes (like 0 or 1) and make a best fit boundary. In regression problems we make a best fit line and plot the datapoints on it."
   ]
  },
  {
   "cell_type": "markdown",
   "id": "69fd8dd0-0a89-452b-a848-f7835857c24b",
   "metadata": {},
   "source": [
    "9. Ensemble method is a powerful technique in machine learning where multiple models called weak learners are combined to build a powerful and robust model. "
   ]
  },
  {
   "cell_type": "markdown",
   "id": "bd0d0f15-6a40-4b4a-a2de-c7cb37c5cd15",
   "metadata": {},
   "source": [
    "10. Gradient boosting is a type of optimization algorithm in which the main goal it to find optimal weights by finding the minima of the curve using learning rate."
   ]
  },
  {
   "cell_type": "markdown",
   "id": "2b008e84-743c-4f82-83b4-8580a7a0c0f5",
   "metadata": {},
   "source": [
    "11. L1 Regularization (Lasso): Adds the absolute value of the magnitude of coefficients as a penalty term to the loss function. L2 Regularization (Ridge): Adds the squared magnitude of coefficients as a penalty term to the loss function."
   ]
  },
  {
   "cell_type": "markdown",
   "id": "671ebaee-9913-4781-a4fa-3d11c5b88fc2",
   "metadata": {},
   "source": [
    "12. Confusion matrix is used to evaluate performance of a classification model by comparing predicted values and actual values"
   ]
  },
  {
   "cell_type": "markdown",
   "id": "08449f7a-0c4a-48c0-b00b-5d9380fdbe3d",
   "metadata": {},
   "source": [
    "13. The AUC-ROC curve is a performance measurement for classification model. It is the plot of true positive values against false positive values"
   ]
  },
  {
   "cell_type": "markdown",
   "id": "290eada8-5ca6-4eab-b80e-f44632a409ff",
   "metadata": {},
   "source": [
    "14. K-nearest neighbour is a simple, non-parametricc algorithm used in classification and regression. It is used to predict value of a point based on k nearest points."
   ]
  },
  {
   "cell_type": "markdown",
   "id": "a42d9ae3-9392-49b1-b23b-0ef07305f297",
   "metadata": {},
   "source": [
    "15. SVM is a supervised ml algorithm used in classification and regression problems. Its finds the best hyperplane that best seperated the data into classes."
   ]
  },
  {
   "cell_type": "markdown",
   "id": "455f6c19-d342-41da-a32e-9db043b41af0",
   "metadata": {},
   "source": [
    "16. The kernel trick allows SVM to operate in higher dimensional space without explicitly calculating coordinated of the data in that space."
   ]
  },
  {
   "cell_type": "markdown",
   "id": "6243aafa-449a-48a9-8ea1-7f4720f22d3d",
   "metadata": {},
   "source": [
    "17. Linear, polynomial, radial basis function (RBF) and sigmoid."
   ]
  },
  {
   "cell_type": "markdown",
   "id": "07867198-ff95-4e80-bb95-1da7e0903fac",
   "metadata": {},
   "source": [
    "18. Hyperplane is a decision boundary that seperates the data into different classes."
   ]
  },
  {
   "cell_type": "markdown",
   "id": "2f00bacd-8d76-4041-b4b0-ea8c307958d0",
   "metadata": {},
   "source": [
    "19. Pros: Effective in high-dimensional spaces, works well for clear margin of separation. Cons: Not suitable for large datasets, less effective for overlapping classes."
   ]
  },
  {
   "cell_type": "markdown",
   "id": "6efc67d1-eee4-4116-9f01-8f969c8d5ab3",
   "metadata": {},
   "source": [
    "20. In hard margin, no misclassification is allowed. In soft margin, some misclassification are did on purpose to avoid overfitting."
   ]
  },
  {
   "cell_type": "markdown",
   "id": "5a5144c3-82f9-427d-b174-ac20eed8c457",
   "metadata": {},
   "source": [
    "21. Split the dataset into subsets based on the feature that results in the highest information gain or lowest Gini impurity."
   ]
  },
  {
   "cell_type": "markdown",
   "id": "56da4927-4e74-4e58-8634-3ffc8dafe9cf",
   "metadata": {},
   "source": [
    "22. A decision tree splits the data into subsets based on the value of input features to create branches, ending in leaves representing class labels."
   ]
  },
  {
   "cell_type": "markdown",
   "id": "86bcec7e-9ba2-404d-a0c0-77533754cdf0",
   "metadata": {},
   "source": [
    "23. Bootstrapping involves sampling subsets of the data with replacement to create multiple decision trees in an ensemble method like Random Forest."
   ]
  },
  {
   "cell_type": "markdown",
   "id": "644dbc68-5ff0-468a-b28a-cb4a8de7f9a0",
   "metadata": {},
   "source": [
    "24. Gini impurity measures the likelihood of incorrect classification of a randomly chosen element. It is used to create splits in decision trees."
   ]
  },
  {
   "cell_type": "markdown",
   "id": "3aa717d0-0a19-4ccd-9d95-656907917066",
   "metadata": {},
   "source": [
    "25. Advantages: Easy to understand, interpretable, requires little data preprocessing. Disadvantages: Prone to overfitting, can be unstable with small changes in data."
   ]
  },
  {
   "cell_type": "markdown",
   "id": "1e0e8d06-2785-4f09-bee8-ebae4020902e",
   "metadata": {},
   "source": [
    "26. Random forests combine multiple decision trees to reduce overfitting and improve accuracy and robustness."
   ]
  },
  {
   "cell_type": "markdown",
   "id": "dff3556e-9b40-4265-9107-ccff7039b7df",
   "metadata": {},
   "source": [
    "27. Random forests create multiple decision trees using bootstrapped datasets and random subsets of features, then aggregate their predictions."
   ]
  },
  {
   "cell_type": "markdown",
   "id": "db708d6e-d0d2-48a2-a7c9-4a442fde9d60",
   "metadata": {},
   "source": [
    "28. Each decision tree in a random forest is trained on a bootstrapped sample of the training data to reduce overfitting and increase robustness.\n"
   ]
  },
  {
   "cell_type": "markdown",
   "id": "7851228e-e9f8-4d7e-aa21-911c51bd7e1b",
   "metadata": {},
   "source": [
    "29. Random forests compute feature importance by evaluating how much each feature decreases the impurity in the trees."
   ]
  },
  {
   "cell_type": "markdown",
   "id": "9c9e966b-0a71-404d-98ef-3c230258970e",
   "metadata": {},
   "source": [
    "30. n_estimators: Number of trees in the forest.\n",
    "\n",
    "max_depth: Maximum depth of the trees.\n",
    "\n",
    "min_samples_split: Minimum number of samples required to split an internal node."
   ]
  },
  {
   "cell_type": "markdown",
   "id": "3cc1d209-3c9b-48b4-b4e0-19b5f7daa30a",
   "metadata": {},
   "source": [
    "31. Logistic regression predicts the probability of a binary outcome. Assumes linear relationship between features and log-odds of the outcome."
   ]
  },
  {
   "cell_type": "markdown",
   "id": "3b283840-6deb-401f-b234-b162fa473f72",
   "metadata": {},
   "source": [
    "32. Logistic regression uses the logistic function to map predicted values to probabilities, suitable for binary classification."
   ]
  },
  {
   "cell_type": "markdown",
   "id": "73fe6c88-0fcd-4f6a-9e2f-9b1762c8e9c1",
   "metadata": {},
   "source": [
    "33. The sigmoid function maps input values to a probability between 0 and 1."
   ]
  },
  {
   "cell_type": "markdown",
   "id": "749c9d3d-40b7-459d-bb4d-fbaa98fc46ab",
   "metadata": {},
   "source": [
    "34. The cost function measures the error between predicted probabilities and actual outcomes, using cross-entropy loss."
   ]
  },
  {
   "cell_type": "markdown",
   "id": "76eec32a-67ea-41d4-a12f-25e9fb8a3cc4",
   "metadata": {},
   "source": [
    "35. Use techniques like one-vs-rest (OvR) or softmax regression for multiclass classification."
   ]
  },
  {
   "cell_type": "markdown",
   "id": "39e7e11f-8b88-4bdf-8f68-71933ab4d4ff",
   "metadata": {},
   "source": [
    "36. L1 regularization adds the absolute value of coefficients.\n",
    "L2 regularization adds the squared value of coefficients."
   ]
  },
  {
   "cell_type": "markdown",
   "id": "1a3a5e0a-a0ef-4b2e-9bbc-b14b2d821b5c",
   "metadata": {},
   "source": [
    "37. Boosting combines weak learners to create a strong learner by sequentially correcting the errors of the previous models."
   ]
  },
  {
   "cell_type": "markdown",
   "id": "6e9e2496-9930-4d16-b339-94dd686b50df",
   "metadata": {},
   "source": [
    "38. XGBoost can handle missing values by automatically learning their best imputation.\n"
   ]
  },
  {
   "cell_type": "markdown",
   "id": "a7dbfca4-c7c5-4d32-9899-3f3bbe8ebe15",
   "metadata": {},
   "source": [
    "39. xgb_model = xgb.XGBClassifier(n_estimators=100, max_depth=5, learning_rate=0.1, subsample=0.8) "
   ]
  },
  {
   "cell_type": "markdown",
   "id": "69bd3bc6-b595-4135-8c2c-54599b24b076",
   "metadata": {},
   "source": [
    "40. Gradient boosting builds models sequentially, with each new model correcting the errors of the previous ones."
   ]
  },
  {
   "cell_type": "markdown",
   "id": "3fd92742-6a1e-4826-b523-b5e6f62c2417",
   "metadata": {},
   "source": [
    "41. Advantages: High performance, handles missing values, regularization to prevent overfitting.\n",
    "Disadvantages: Complex parameter tuning, high computational cost."
   ]
  },
  {
   "cell_type": "code",
   "execution_count": null,
   "id": "17a47496-ae2e-4e46-a8d1-6e6cdbcbbc5b",
   "metadata": {},
   "outputs": [],
   "source": []
  }
 ],
 "metadata": {
  "kernelspec": {
   "display_name": "Python 3 (ipykernel)",
   "language": "python",
   "name": "python3"
  },
  "language_info": {
   "codemirror_mode": {
    "name": "ipython",
    "version": 3
   },
   "file_extension": ".py",
   "mimetype": "text/x-python",
   "name": "python",
   "nbconvert_exporter": "python",
   "pygments_lexer": "ipython3",
   "version": "3.11.7"
  }
 },
 "nbformat": 4,
 "nbformat_minor": 5
}
